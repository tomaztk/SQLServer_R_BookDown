{
    "metadata": {
        "kernelspec": {
            "name": "SQL",
            "display_name": "SQL",
            "language": "sql"
        },
        "language_info": {
            "name": "sql",
            "version": ""
        }
    },
    "nbformat_minor": 2,
    "nbformat": 4,
    "cells": [
        {
            "cell_type": "code",
            "source": [
                "Use TestMD"
            ],
            "metadata": {
                "azdata_cell_guid": "afaf04b0-7716-4f60-bd2f-028047b43635"
            },
            "outputs": [
                {
                    "output_type": "display_data",
                    "data": {
                        "text/html": "Commands completed successfully."
                    },
                    "metadata": {}
                },
                {
                    "output_type": "display_data",
                    "data": {
                        "text/html": "Total execution time: 00:00:00.012"
                    },
                    "metadata": {}
                }
            ],
            "execution_count": 6
        },
        {
            "cell_type": "code",
            "source": [
                "SELECT * FROM TestForMD"
            ],
            "metadata": {
                "azdata_cell_guid": "ebcd4c7b-e5ec-4fac-9cd0-90c59b22607c"
            },
            "outputs": [
                {
                    "output_type": "display_data",
                    "data": {
                        "text/html": "(3 rows affected)"
                    },
                    "metadata": {}
                },
                {
                    "output_type": "display_data",
                    "data": {
                        "text/html": "Total execution time: 00:00:00.042"
                    },
                    "metadata": {}
                },
                {
                    "output_type": "execute_result",
                    "metadata": {},
                    "execution_count": 7,
                    "data": {
                        "application/vnd.dataresource+json": {
                            "schema": {
                                "fields": [
                                    {
                                        "name": "ID"
                                    },
                                    {
                                        "name": "Name"
                                    },
                                    {
                                        "name": "Age"
                                    },
                                    {
                                        "name": "Salary"
                                    },
                                    {
                                        "name": "Height"
                                    },
                                    {
                                        "name": "MaritalStatus"
                                    }
                                ]
                            },
                            "data": [
                                {
                                    "0": "1",
                                    "1": "Tim",
                                    "2": "31",
                                    "3": "300.0000",
                                    "4": "191.20",
                                    "5": "1"
                                },
                                {
                                    "0": "2",
                                    "1": "Tom",
                                    "2": "21",
                                    "3": "400.0000",
                                    "4": "181.87",
                                    "5": "2"
                                },
                                {
                                    "0": "3",
                                    "1": "Tam",
                                    "2": "51",
                                    "3": "500.0000",
                                    "4": "176.54",
                                    "5": "3"
                                }
                            ]
                        },
                        "text/html": [
                            "<table>",
                            "<tr><th>ID</th><th>Name</th><th>Age</th><th>Salary</th><th>Height</th><th>MaritalStatus</th></tr>",
                            "<tr><td>1</td><td>Tim</td><td>31</td><td>300.0000</td><td>191.20</td><td>1</td></tr>",
                            "<tr><td>2</td><td>Tom</td><td>21</td><td>400.0000</td><td>181.87</td><td>2</td></tr>",
                            "<tr><td>3</td><td>Tam</td><td>51</td><td>500.0000</td><td>176.54</td><td>3</td></tr>",
                            "</table>"
                        ]
                    }
                }
            ],
            "execution_count": 7
        },
        {
            "cell_type": "markdown",
            "source": [
                "##Result for table: _**TestForMD**_             \n",
                "###SchemaName: _dbo_ \n",
                "\n",
                "|**ID**|**Name**|**Age**|**Salary**|**Height**|**MaritalStatus**|\n",
                "|---|---|---|---|---|---| \n",
                "|1|Tim|31|300.00|191.20|1|\n",
                "|2|Tom|21|400.00|181.87|2|  \n",
                "|3|Tam|51|500.00|176.54|3| \n",
                ""
            ],
            "metadata": {
                "azdata_cell_guid": "2f79b88d-b531-43e8-8f0d-b74a3c3822cb"
            }
        },
        {
            "cell_type": "markdown",
            "source": [
                ""
            ],
            "metadata": {
                "azdata_cell_guid": "298044a2-d7c1-4cd1-9fd8-da3f7e0e7eed"
            }
        },
        {
            "cell_type": "markdown",
            "source": [
                "\n",
                "\n",
                "|---|---|---|---|---|---|\n",
                "\n",
                "|1|Tim|31|300.00|191.20|1|\n",
                "\n",
                "|2|Tom|21|400.00|181.87|2|\n",
                "\n",
                "|3|Tam|51|500.00|176.54|3|"
            ],
            "metadata": {
                "azdata_cell_guid": "8322f138-1e33-4ed4-81b3-3c18cd02ed57"
            },
            "attachments": {}
        }
    ]
}